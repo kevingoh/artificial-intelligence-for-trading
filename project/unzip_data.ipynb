{
 "cells": [
  {
   "cell_type": "markdown",
   "metadata": {},
   "source": [
    "# unpack data files"
   ]
  },
  {
   "cell_type": "code",
   "execution_count": 2,
   "metadata": {},
   "outputs": [],
   "source": [
    "# !cd ../../ && unzip cstore_fdw.zip\n",
    "# !cd ../../ && unzip data.zip\n",
    "# !cd ../../ && unzip nltk_data.zip\n"
   ]
  },
  {
   "cell_type": "markdown",
   "metadata": {},
   "source": [
    "# pack data files"
   ]
  },
  {
   "cell_type": "code",
   "execution_count": 1,
   "metadata": {},
   "outputs": [],
   "source": [
    "# !zip -qr cstore_fdw.zip /cstore_fdw\n",
    "# !zip -qr data.zip /data\n",
    "# !zip -qr nltk_data.zip /root/nltk_data"
   ]
  }
 ],
 "metadata": {
  "kernelspec": {
   "display_name": "Python (AITrading)",
   "language": "python",
   "name": "aitrading"
  },
  "language_info": {
   "codemirror_mode": {
    "name": "ipython",
    "version": 3
   },
   "file_extension": ".py",
   "mimetype": "text/x-python",
   "name": "python",
   "nbconvert_exporter": "python",
   "pygments_lexer": "ipython3",
   "version": "3.6.3"
  }
 },
 "nbformat": 4,
 "nbformat_minor": 2
}
